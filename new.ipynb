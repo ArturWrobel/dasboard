{
 "nbformat": 4,
 "nbformat_minor": 2,
 "metadata": {
  "language_info": {
   "name": "python",
   "codemirror_mode": {
    "name": "ipython",
    "version": 3
   },
   "version": "3.7.3-final"
  },
  "orig_nbformat": 2,
  "file_extension": ".py",
  "mimetype": "text/x-python",
  "name": "python",
  "npconvert_exporter": "python",
  "pygments_lexer": "ipython3",
  "version": 3,
  "kernelspec": {
   "name": "python37364bit2870f85bdb4647769c3f68bc51a7b511",
   "display_name": "Python 3.7.3 64-bit"
  }
 },
 "cells": [
  {
   "cell_type": "code",
   "execution_count": 10,
   "metadata": {},
   "outputs": [],
   "source": [
    "import pandas as pd\n"
   ]
  },
  {
   "cell_type": "code",
   "execution_count": 32,
   "metadata": {},
   "outputs": [],
   "source": [
    "df = pd.read_excel(\"sprzedaz.xlsx\")\n"
   ]
  },
  {
   "cell_type": "code",
   "execution_count": 33,
   "metadata": {},
   "outputs": [
    {
     "data": {
      "text/html": "<div>\n<style scoped>\n    .dataframe tbody tr th:only-of-type {\n        vertical-align: middle;\n    }\n\n    .dataframe tbody tr th {\n        vertical-align: top;\n    }\n\n    .dataframe thead th {\n        text-align: right;\n    }\n</style>\n<table border=\"1\" class=\"dataframe\">\n  <thead>\n    <tr style=\"text-align: right;\">\n      <th></th>\n      <th>data</th>\n      <th>costs</th>\n      <th>sold</th>\n      <th>result</th>\n      <th>cumulated</th>\n    </tr>\n  </thead>\n  <tbody>\n    <tr>\n      <th>0</th>\n      <td>2019-12-01</td>\n      <td>2000</td>\n      <td>4000</td>\n      <td>2000</td>\n      <td>2000</td>\n    </tr>\n    <tr>\n      <th>1</th>\n      <td>2019-12-02</td>\n      <td>3000</td>\n      <td>5000</td>\n      <td>2000</td>\n      <td>4000</td>\n    </tr>\n    <tr>\n      <th>2</th>\n      <td>2019-12-03</td>\n      <td>6000</td>\n      <td>7000</td>\n      <td>1000</td>\n      <td>5000</td>\n    </tr>\n    <tr>\n      <th>3</th>\n      <td>2019-12-04</td>\n      <td>7000</td>\n      <td>10000</td>\n      <td>3000</td>\n      <td>8000</td>\n    </tr>\n    <tr>\n      <th>4</th>\n      <td>2019-12-05</td>\n      <td>5000</td>\n      <td>5000</td>\n      <td>0</td>\n      <td>8000</td>\n    </tr>\n    <tr>\n      <th>5</th>\n      <td>2019-12-06</td>\n      <td>2000</td>\n      <td>4000</td>\n      <td>2000</td>\n      <td>10000</td>\n    </tr>\n    <tr>\n      <th>6</th>\n      <td>2019-12-07</td>\n      <td>1000</td>\n      <td>2000</td>\n      <td>1000</td>\n      <td>11000</td>\n    </tr>\n    <tr>\n      <th>7</th>\n      <td>2019-12-08</td>\n      <td>1000</td>\n      <td>5000</td>\n      <td>4000</td>\n      <td>15000</td>\n    </tr>\n    <tr>\n      <th>8</th>\n      <td>2019-12-09</td>\n      <td>5000</td>\n      <td>6000</td>\n      <td>1000</td>\n      <td>16000</td>\n    </tr>\n    <tr>\n      <th>9</th>\n      <td>2019-12-10</td>\n      <td>500</td>\n      <td>2000</td>\n      <td>1500</td>\n      <td>17500</td>\n    </tr>\n    <tr>\n      <th>10</th>\n      <td>2019-12-11</td>\n      <td>2200</td>\n      <td>1000</td>\n      <td>-1200</td>\n      <td>16300</td>\n    </tr>\n    <tr>\n      <th>11</th>\n      <td>2019-12-12</td>\n      <td>7500</td>\n      <td>6000</td>\n      <td>-1500</td>\n      <td>14800</td>\n    </tr>\n    <tr>\n      <th>12</th>\n      <td>2019-12-13</td>\n      <td>6600</td>\n      <td>5000</td>\n      <td>-1600</td>\n      <td>13200</td>\n    </tr>\n    <tr>\n      <th>13</th>\n      <td>2019-12-14</td>\n      <td>400</td>\n      <td>2000</td>\n      <td>1600</td>\n      <td>14800</td>\n    </tr>\n    <tr>\n      <th>14</th>\n      <td>2019-12-15</td>\n      <td>4000</td>\n      <td>5000</td>\n      <td>1000</td>\n      <td>15800</td>\n    </tr>\n    <tr>\n      <th>15</th>\n      <td>2019-12-16</td>\n      <td>7700</td>\n      <td>6000</td>\n      <td>-1700</td>\n      <td>14100</td>\n    </tr>\n    <tr>\n      <th>16</th>\n      <td>2019-12-17</td>\n      <td>10000</td>\n      <td>8000</td>\n      <td>-2000</td>\n      <td>12100</td>\n    </tr>\n    <tr>\n      <th>17</th>\n      <td>2019-12-18</td>\n      <td>2222</td>\n      <td>3000</td>\n      <td>778</td>\n      <td>12878</td>\n    </tr>\n    <tr>\n      <th>18</th>\n      <td>2019-12-19</td>\n      <td>5500</td>\n      <td>5500</td>\n      <td>0</td>\n      <td>12878</td>\n    </tr>\n    <tr>\n      <th>19</th>\n      <td>2019-12-20</td>\n      <td>3200</td>\n      <td>4000</td>\n      <td>800</td>\n      <td>13678</td>\n    </tr>\n  </tbody>\n</table>\n</div>",
      "text/plain": "         data  costs   sold  result  cumulated\n0  2019-12-01   2000   4000    2000       2000\n1  2019-12-02   3000   5000    2000       4000\n2  2019-12-03   6000   7000    1000       5000\n3  2019-12-04   7000  10000    3000       8000\n4  2019-12-05   5000   5000       0       8000\n5  2019-12-06   2000   4000    2000      10000\n6  2019-12-07   1000   2000    1000      11000\n7  2019-12-08   1000   5000    4000      15000\n8  2019-12-09   5000   6000    1000      16000\n9  2019-12-10    500   2000    1500      17500\n10 2019-12-11   2200   1000   -1200      16300\n11 2019-12-12   7500   6000   -1500      14800\n12 2019-12-13   6600   5000   -1600      13200\n13 2019-12-14    400   2000    1600      14800\n14 2019-12-15   4000   5000    1000      15800\n15 2019-12-16   7700   6000   -1700      14100\n16 2019-12-17  10000   8000   -2000      12100\n17 2019-12-18   2222   3000     778      12878\n18 2019-12-19   5500   5500       0      12878\n19 2019-12-20   3200   4000     800      13678"
     },
     "execution_count": 33,
     "metadata": {},
     "output_type": "execute_result"
    }
   ],
   "source": [
    "df"
   ]
  },
  {
   "cell_type": "code",
   "execution_count": 36,
   "metadata": {},
   "outputs": [
    {
     "data": {
      "text/html": "<div>\n<style scoped>\n    .dataframe tbody tr th:only-of-type {\n        vertical-align: middle;\n    }\n\n    .dataframe tbody tr th {\n        vertical-align: top;\n    }\n\n    .dataframe thead th {\n        text-align: right;\n    }\n</style>\n<table border=\"1\" class=\"dataframe\">\n  <thead>\n    <tr style=\"text-align: right;\">\n      <th></th>\n      <th>costs</th>\n      <th>sold</th>\n      <th>result</th>\n      <th>cumulated</th>\n    </tr>\n    <tr>\n      <th>data</th>\n      <th></th>\n      <th></th>\n      <th></th>\n      <th></th>\n    </tr>\n  </thead>\n  <tbody>\n    <tr>\n      <th>2019-12-01</th>\n      <td>2000</td>\n      <td>4000</td>\n      <td>2000</td>\n      <td>2000</td>\n    </tr>\n    <tr>\n      <th>2019-12-02</th>\n      <td>3000</td>\n      <td>5000</td>\n      <td>2000</td>\n      <td>4000</td>\n    </tr>\n    <tr>\n      <th>2019-12-03</th>\n      <td>6000</td>\n      <td>7000</td>\n      <td>1000</td>\n      <td>5000</td>\n    </tr>\n    <tr>\n      <th>2019-12-04</th>\n      <td>7000</td>\n      <td>10000</td>\n      <td>3000</td>\n      <td>8000</td>\n    </tr>\n    <tr>\n      <th>2019-12-05</th>\n      <td>5000</td>\n      <td>5000</td>\n      <td>0</td>\n      <td>8000</td>\n    </tr>\n    <tr>\n      <th>2019-12-06</th>\n      <td>2000</td>\n      <td>4000</td>\n      <td>2000</td>\n      <td>10000</td>\n    </tr>\n    <tr>\n      <th>2019-12-07</th>\n      <td>1000</td>\n      <td>2000</td>\n      <td>1000</td>\n      <td>11000</td>\n    </tr>\n    <tr>\n      <th>2019-12-08</th>\n      <td>1000</td>\n      <td>5000</td>\n      <td>4000</td>\n      <td>15000</td>\n    </tr>\n    <tr>\n      <th>2019-12-09</th>\n      <td>5000</td>\n      <td>6000</td>\n      <td>1000</td>\n      <td>16000</td>\n    </tr>\n    <tr>\n      <th>2019-12-10</th>\n      <td>500</td>\n      <td>2000</td>\n      <td>1500</td>\n      <td>17500</td>\n    </tr>\n    <tr>\n      <th>2019-12-11</th>\n      <td>2200</td>\n      <td>1000</td>\n      <td>-1200</td>\n      <td>16300</td>\n    </tr>\n    <tr>\n      <th>2019-12-12</th>\n      <td>7500</td>\n      <td>6000</td>\n      <td>-1500</td>\n      <td>14800</td>\n    </tr>\n    <tr>\n      <th>2019-12-13</th>\n      <td>6600</td>\n      <td>5000</td>\n      <td>-1600</td>\n      <td>13200</td>\n    </tr>\n    <tr>\n      <th>2019-12-14</th>\n      <td>400</td>\n      <td>2000</td>\n      <td>1600</td>\n      <td>14800</td>\n    </tr>\n    <tr>\n      <th>2019-12-15</th>\n      <td>4000</td>\n      <td>5000</td>\n      <td>1000</td>\n      <td>15800</td>\n    </tr>\n    <tr>\n      <th>2019-12-16</th>\n      <td>7700</td>\n      <td>6000</td>\n      <td>-1700</td>\n      <td>14100</td>\n    </tr>\n    <tr>\n      <th>2019-12-17</th>\n      <td>10000</td>\n      <td>8000</td>\n      <td>-2000</td>\n      <td>12100</td>\n    </tr>\n    <tr>\n      <th>2019-12-18</th>\n      <td>2222</td>\n      <td>3000</td>\n      <td>778</td>\n      <td>12878</td>\n    </tr>\n    <tr>\n      <th>2019-12-19</th>\n      <td>5500</td>\n      <td>5500</td>\n      <td>0</td>\n      <td>12878</td>\n    </tr>\n    <tr>\n      <th>2019-12-20</th>\n      <td>3200</td>\n      <td>4000</td>\n      <td>800</td>\n      <td>13678</td>\n    </tr>\n  </tbody>\n</table>\n</div>",
      "text/plain": "            costs   sold  result  cumulated\ndata                                       \n2019-12-01   2000   4000    2000       2000\n2019-12-02   3000   5000    2000       4000\n2019-12-03   6000   7000    1000       5000\n2019-12-04   7000  10000    3000       8000\n2019-12-05   5000   5000       0       8000\n2019-12-06   2000   4000    2000      10000\n2019-12-07   1000   2000    1000      11000\n2019-12-08   1000   5000    4000      15000\n2019-12-09   5000   6000    1000      16000\n2019-12-10    500   2000    1500      17500\n2019-12-11   2200   1000   -1200      16300\n2019-12-12   7500   6000   -1500      14800\n2019-12-13   6600   5000   -1600      13200\n2019-12-14    400   2000    1600      14800\n2019-12-15   4000   5000    1000      15800\n2019-12-16   7700   6000   -1700      14100\n2019-12-17  10000   8000   -2000      12100\n2019-12-18   2222   3000     778      12878\n2019-12-19   5500   5500       0      12878\n2019-12-20   3200   4000     800      13678"
     },
     "execution_count": 36,
     "metadata": {},
     "output_type": "execute_result"
    }
   ],
   "source": [
    "df.set_index('data')"
   ]
  },
  {
   "cell_type": "code",
   "execution_count": 37,
   "metadata": {},
   "outputs": [
    {
     "data": {
      "text/plain": "0    2019-12-01\n1    2019-12-02\n2    2019-12-03\n3    2019-12-04\n4    2019-12-05\n5    2019-12-06\n6    2019-12-07\n7    2019-12-08\n8    2019-12-09\n9    2019-12-10\n10   2019-12-11\n11   2019-12-12\n12   2019-12-13\n13   2019-12-14\n14   2019-12-15\n15   2019-12-16\n16   2019-12-17\n17   2019-12-18\n18   2019-12-19\n19   2019-12-20\nName: data, dtype: datetime64[ns]"
     },
     "execution_count": 37,
     "metadata": {},
     "output_type": "execute_result"
    }
   ],
   "source": [
    "df.data"
   ]
  },
  {
   "cell_type": "code",
   "execution_count": 38,
   "metadata": {},
   "outputs": [
    {
     "data": {
      "text/plain": "0      2000\n1      3000\n2      6000\n3      7000\n4      5000\n5      2000\n6      1000\n7      1000\n8      5000\n9       500\n10     2200\n11     7500\n12     6600\n13      400\n14     4000\n15     7700\n16    10000\n17     2222\n18     5500\n19     3200\nName: costs, dtype: int64"
     },
     "execution_count": 38,
     "metadata": {},
     "output_type": "execute_result"
    }
   ],
   "source": [
    "df.costs"
   ]
  },
  {
   "cell_type": "code",
   "execution_count": 39,
   "metadata": {},
   "outputs": [
    {
     "data": {
      "text/plain": "15   2019-12-16\n16   2019-12-17\n17   2019-12-18\n18   2019-12-19\n19   2019-12-20\nName: data, dtype: datetime64[ns]"
     },
     "execution_count": 39,
     "metadata": {},
     "output_type": "execute_result"
    }
   ],
   "source": [
    "df.data.tail()\n"
   ]
  },
  {
   "cell_type": "code",
   "execution_count": null,
   "metadata": {},
   "outputs": [],
   "source": [
    "1"
   ]
  }
 ]
}